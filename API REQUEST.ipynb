{
 "cells": [
  {
   "cell_type": "code",
   "execution_count": null,
   "id": "1da3c63e",
   "metadata": {},
   "outputs": [],
   "source": []
  },
  {
   "cell_type": "code",
   "execution_count": 1,
   "id": "df33f8f0",
   "metadata": {},
   "outputs": [
    {
     "ename": "KeyError",
     "evalue": "'results'",
     "output_type": "error",
     "traceback": [
      "\u001b[1;31m---------------------------------------------------------------------------\u001b[0m",
      "\u001b[1;31mKeyError\u001b[0m                                  Traceback (most recent call last)",
      "Input \u001b[1;32mIn [1]\u001b[0m, in \u001b[0;36m<cell line: 54>\u001b[1;34m()\u001b[0m\n\u001b[0;32m     52\u001b[0m     \u001b[38;5;28mprint\u001b[39m(\u001b[38;5;124m\"\u001b[39m\u001b[38;5;124mData saved to bollywood_movies.csv\u001b[39m\u001b[38;5;124m\"\u001b[39m)\n\u001b[0;32m     54\u001b[0m \u001b[38;5;28;01mif\u001b[39;00m \u001b[38;5;18m__name__\u001b[39m \u001b[38;5;241m==\u001b[39m \u001b[38;5;124m\"\u001b[39m\u001b[38;5;124m__main__\u001b[39m\u001b[38;5;124m\"\u001b[39m:\n\u001b[1;32m---> 55\u001b[0m     \u001b[43mmain\u001b[49m\u001b[43m(\u001b[49m\u001b[43m)\u001b[49m\n",
      "Input \u001b[1;32mIn [1]\u001b[0m, in \u001b[0;36mmain\u001b[1;34m()\u001b[0m\n\u001b[0;32m     23\u001b[0m response \u001b[38;5;241m=\u001b[39m requests\u001b[38;5;241m.\u001b[39mget(url)\n\u001b[0;32m     24\u001b[0m data \u001b[38;5;241m=\u001b[39m response\u001b[38;5;241m.\u001b[39mjson()\n\u001b[1;32m---> 26\u001b[0m \u001b[38;5;28;01mfor\u001b[39;00m movie \u001b[38;5;129;01min\u001b[39;00m \u001b[43mdata\u001b[49m\u001b[43m[\u001b[49m\u001b[38;5;124;43m'\u001b[39;49m\u001b[38;5;124;43mresults\u001b[39;49m\u001b[38;5;124;43m'\u001b[39;49m\u001b[43m]\u001b[49m:\n\u001b[0;32m     27\u001b[0m     movie_id \u001b[38;5;241m=\u001b[39m movie[\u001b[38;5;124m'\u001b[39m\u001b[38;5;124mid\u001b[39m\u001b[38;5;124m'\u001b[39m]\n\u001b[0;32m     28\u001b[0m     details \u001b[38;5;241m=\u001b[39m get_movie_details(movie_id)\n",
      "\u001b[1;31mKeyError\u001b[0m: 'results'"
     ]
    }
   ],
   "source": [
    "import requests\n",
    "import pandas as pd\n",
    "\n",
    "API_KEY = 'your_tmdb_api_key'\n",
    "BASE_URL = 'https://api.themoviedb.org/3'\n",
    "\n",
    "def get_movie_details(movie_id):\n",
    "    url = f'{BASE_URL}/movie/{movie_id}?api_key={API_KEY}&language=en-US'\n",
    "    response = requests.get(url)\n",
    "    return response.json()\n",
    "\n",
    "def get_cast_and_crew(movie_id):\n",
    "    url = f'{BASE_URL}/movie/{movie_id}/credits?api_key={API_KEY}&language=en-US'\n",
    "    response = requests.get(url)\n",
    "    return response.json()\n",
    "\n",
    "def main():\n",
    "    movies = []\n",
    "    \n",
    "    # TMDb does not provide a direct way to filter Bollywood movies, so we need to search for popular movies and filter them manually\n",
    "    for page in range(1, 51):  # Adjust the range to get 1000 movies (20 movies per page, 50 pages)\n",
    "        url = f'{BASE_URL}/movie/popular?api_key={API_KEY}&language=en-US&page={page}'\n",
    "        response = requests.get(url)\n",
    "        data = response.json()\n",
    "        \n",
    "        for movie in data['results']:\n",
    "            movie_id = movie['id']\n",
    "            details = get_movie_details(movie_id)\n",
    "            \n",
    "            # Filter for Bollywood movies (if available in data)\n",
    "            if details['original_language'] == 'hi':  # Assuming 'hi' for Hindi\n",
    "                cast_crew = get_cast_and_crew(movie_id)\n",
    "                \n",
    "                movie_data = {\n",
    "                    'movie_id': movie_id,\n",
    "                    'title': details.get('title', ''),\n",
    "                    'overview': details.get('overview', ''),\n",
    "                    'genres': [genre['name'] for genre in details.get('genres', [])],\n",
    "                    'keywords': [keyword['name'] for keyword in details.get('keywords', {}).get('keywords', [])],\n",
    "                    'cast': [cast['name'] for cast in cast_crew.get('cast', [])],\n",
    "                    'crew': [crew['name'] for crew in cast_crew.get('crew', [])]\n",
    "                }\n",
    "                movies.append(movie_data)\n",
    "                \n",
    "                if len(movies) >= 1000:\n",
    "                    break\n",
    "        if len(movies) >= 1000:\n",
    "            break\n",
    "    \n",
    "    df = pd.DataFrame(movies)\n",
    "    df.to_csv('bollywood_movies.csv', index=False)\n",
    "    print(\"Data saved to bollywood_movies.csv\")\n",
    "\n",
    "if __name__ == \"__main__\":\n",
    "    main()\n"
   ]
  },
  {
   "cell_type": "code",
   "execution_count": null,
   "id": "684814a4",
   "metadata": {},
   "outputs": [],
   "source": []
  }
 ],
 "metadata": {
  "kernelspec": {
   "display_name": "Python 3 (ipykernel)",
   "language": "python",
   "name": "python3"
  },
  "language_info": {
   "codemirror_mode": {
    "name": "ipython",
    "version": 3
   },
   "file_extension": ".py",
   "mimetype": "text/x-python",
   "name": "python",
   "nbconvert_exporter": "python",
   "pygments_lexer": "ipython3",
   "version": "3.9.12"
  }
 },
 "nbformat": 4,
 "nbformat_minor": 5
}
